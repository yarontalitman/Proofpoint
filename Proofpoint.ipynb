{
 "cells": [
  {
   "cell_type": "code",
   "execution_count": 44,
   "metadata": {},
   "outputs": [
    {
     "name": "stdout",
     "output_type": "stream",
     "text": [
      "5\n"
     ]
    }
   ],
   "source": [
    "num_list = [0,1,2,3,4,6,7,8,9]\n",
    "def missing_num(num_list):\n",
    "    length = len(num_list)\n",
    "    sumarr = (length+1)*(length)/2\n",
    "    sumnum = sum(num_list)\n",
    "    return int(sumarr-sumnum)\n",
    "    \n",
    "print (missing_num(num_list))"
   ]
  },
  {
   "cell_type": "code",
   "execution_count": null,
   "metadata": {},
   "outputs": [],
   "source": [
    "def check_user_input():\n",
    "    userInputSum = 0\n",
    "    while True:\n",
    "        userInput = input(\"Enter input: \")\n",
    "        if userInput==\"stop\":\n",
    "            print(userInputSum)\n",
    "            break \n",
    "        try:\n",
    "            intinput = int(userInput)\n",
    "        except ValueError:\n",
    "            print (\"not a number and not stop\")\n",
    "            continue \n",
    "        userInputSum = userInputSum+intinput\n",
    "    return userInputSum\n",
    "check_user_input()"
   ]
  },
  {
   "cell_type": "code",
   "execution_count": null,
   "metadata": {},
   "outputs": [],
   "source": []
  }
 ],
 "metadata": {
  "kernelspec": {
   "display_name": "Python 3",
   "language": "python",
   "name": "python3"
  },
  "language_info": {
   "codemirror_mode": {
    "name": "ipython",
    "version": 3
   },
   "file_extension": ".py",
   "mimetype": "text/x-python",
   "name": "python",
   "nbconvert_exporter": "python",
   "pygments_lexer": "ipython3",
   "version": "3.8.5"
  }
 },
 "nbformat": 4,
 "nbformat_minor": 4
}
